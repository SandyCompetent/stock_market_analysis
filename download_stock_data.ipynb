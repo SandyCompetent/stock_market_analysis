{
 "cells": [
  {
   "cell_type": "code",
   "id": "initial_id",
   "metadata": {
    "collapsed": true,
    "ExecuteTime": {
     "end_time": "2025-07-17T20:40:42.482641Z",
     "start_time": "2025-07-17T20:40:41.763757Z"
    }
   },
   "source": [
    "import yfinance as yf\n",
    "import pandas as pd\n",
    "from datetime import datetime, timedelta\n",
    "import time\n",
    "\n",
    "# --- Configuration ---\n",
    "# You can change the ticker symbol to any stock you want to analyze\n",
    "ticker_symbol = \"NVDA\"\n",
    "\n",
    "# --- Date Calculation ---\n",
    "# Automatically calculate the start and end dates for the last 30 days\n",
    "end_date = datetime.now()\n",
    "start_date = end_date - timedelta(days=30)\n",
    "\n",
    "# Format dates into the 'YYYY-MM-DD' string format required by yfinance\n",
    "start_date_str = start_date.strftime('%Y-%m-%d')\n",
    "end_date_str = end_date.strftime('%Y-%m-%d')\n",
    "\n",
    "print(f\"--- Preparing to download 1-minute data for {ticker_symbol} ---\")\n",
    "print(f\"Date Range: {start_date_str} to {end_date_str}\\n\")\n",
    "\n",
    "\n",
    "# --- Data Download Loop ---\n",
    "# List to hold the data chunks from each API call\n",
    "all_data = []\n",
    "\n",
    "# Loop through the date range in 7-day chunks (to respect API limits)\n",
    "current_start = start_date\n",
    "while current_start < end_date:\n",
    "    # Define the end of the current chunk (7 days later)\n",
    "    current_end = current_start + timedelta(days=7)\n",
    "\n",
    "    # Ensure the last chunk doesn't go past the overall end date\n",
    "    if current_end > end_date:\n",
    "        current_end = end_date\n",
    "\n",
    "    print(f\"Fetching data from {current_start.strftime('%Y-%m-%d %H:%M')} to {current_end.strftime('%Y-%m-%d %H:%M')}...\")\n",
    "\n",
    "    try:\n",
    "        # Fetch data for the small chunk\n",
    "        stock_data = yf.download(\n",
    "            tickers=ticker_symbol,\n",
    "            start=current_start,\n",
    "            end=current_end,\n",
    "            interval=\"1m\",\n",
    "            auto_adjust=True, # Set to True to silence the warning and get adjusted prices\n",
    "            progress=False\n",
    "        )\n",
    "\n",
    "        # If data was successfully downloaded, add it to our list\n",
    "        if not stock_data.empty:\n",
    "            all_data.append(stock_data)\n",
    "        else:\n",
    "            print(\"No data found for this chunk.\")\n",
    "\n",
    "    except Exception as e:\n",
    "        print(f\"An error occurred: {e}\")\n",
    "\n",
    "    # Be polite to the API and avoid getting rate-limited\n",
    "    time.sleep(1)\n",
    "\n",
    "    # Move to the start of the next chunk\n",
    "    current_start = current_end\n",
    "\n",
    "# --- Final Processing ---\n",
    "# Concatenate all the downloaded dataframes and save to a CSV file\n",
    "if all_data:\n",
    "    # Combine all the chunks into a single DataFrame\n",
    "    final_df = pd.concat(all_data)\n",
    "\n",
    "    # --- Save the data to a CSV file ---\n",
    "    file_name = f\"{ticker_symbol}_1m_data_last_30_days.csv\"\n",
    "    final_df.to_csv(file_name)\n",
    "\n",
    "    print(f\"\\n✅ Successfully downloaded and saved data to '{file_name}'\")\n",
    "    print(\"\\n--- First 5 Rows ---\")\n",
    "    print(final_df.head())\n",
    "    print(\"\\n--- Last 5 Rows ---\")\n",
    "    print(final_df.tail())\n",
    "else:\n",
    "    print(\"\\nNo data was downloaded. This could be due to API issues or no trading data in the last 30 days (e.g., weekends/holidays).\")\n",
    "\n"
   ],
   "outputs": [
    {
     "name": "stdout",
     "output_type": "stream",
     "text": [
      "--- Preparing to download 1-minute data for NVDA ---\n",
      "Date Range: 2025-06-17 to 2025-07-17\n",
      "\n",
      "Fetching data from 2025-06-17 21:40 to 2025-06-24 21:40...\n"
     ]
    },
    {
     "ename": "KeyboardInterrupt",
     "evalue": "",
     "output_type": "error",
     "traceback": [
      "\u001B[0;31m---------------------------------------------------------------------------\u001B[0m",
      "\u001B[0;31mKeyboardInterrupt\u001B[0m                         Traceback (most recent call last)",
      "Cell \u001B[0;32mIn[4], line 41\u001B[0m\n\u001B[1;32m     37\u001B[0m \u001B[38;5;28mprint\u001B[39m(\u001B[38;5;124mf\u001B[39m\u001B[38;5;124m\"\u001B[39m\u001B[38;5;124mFetching data from \u001B[39m\u001B[38;5;132;01m{\u001B[39;00mcurrent_start\u001B[38;5;241m.\u001B[39mstrftime(\u001B[38;5;124m'\u001B[39m\u001B[38;5;124m%\u001B[39m\u001B[38;5;124mY-\u001B[39m\u001B[38;5;124m%\u001B[39m\u001B[38;5;124mm-\u001B[39m\u001B[38;5;132;01m%d\u001B[39;00m\u001B[38;5;124m \u001B[39m\u001B[38;5;124m%\u001B[39m\u001B[38;5;124mH:\u001B[39m\u001B[38;5;124m%\u001B[39m\u001B[38;5;124mM\u001B[39m\u001B[38;5;124m'\u001B[39m)\u001B[38;5;132;01m}\u001B[39;00m\u001B[38;5;124m to \u001B[39m\u001B[38;5;132;01m{\u001B[39;00mcurrent_end\u001B[38;5;241m.\u001B[39mstrftime(\u001B[38;5;124m'\u001B[39m\u001B[38;5;124m%\u001B[39m\u001B[38;5;124mY-\u001B[39m\u001B[38;5;124m%\u001B[39m\u001B[38;5;124mm-\u001B[39m\u001B[38;5;132;01m%d\u001B[39;00m\u001B[38;5;124m \u001B[39m\u001B[38;5;124m%\u001B[39m\u001B[38;5;124mH:\u001B[39m\u001B[38;5;124m%\u001B[39m\u001B[38;5;124mM\u001B[39m\u001B[38;5;124m'\u001B[39m)\u001B[38;5;132;01m}\u001B[39;00m\u001B[38;5;124m...\u001B[39m\u001B[38;5;124m\"\u001B[39m)\n\u001B[1;32m     39\u001B[0m \u001B[38;5;28;01mtry\u001B[39;00m:\n\u001B[1;32m     40\u001B[0m     \u001B[38;5;66;03m# Fetch data for the small chunk\u001B[39;00m\n\u001B[0;32m---> 41\u001B[0m     stock_data \u001B[38;5;241m=\u001B[39m yf\u001B[38;5;241m.\u001B[39mdownload(\n\u001B[1;32m     42\u001B[0m         tickers\u001B[38;5;241m=\u001B[39mticker_symbol,\n\u001B[1;32m     43\u001B[0m         start\u001B[38;5;241m=\u001B[39mcurrent_start,\n\u001B[1;32m     44\u001B[0m         end\u001B[38;5;241m=\u001B[39mcurrent_end,\n\u001B[1;32m     45\u001B[0m         interval\u001B[38;5;241m=\u001B[39m\u001B[38;5;124m\"\u001B[39m\u001B[38;5;124m1m\u001B[39m\u001B[38;5;124m\"\u001B[39m,\n\u001B[1;32m     46\u001B[0m         auto_adjust\u001B[38;5;241m=\u001B[39m\u001B[38;5;28;01mTrue\u001B[39;00m, \u001B[38;5;66;03m# Set to True to silence the warning and get adjusted prices\u001B[39;00m\n\u001B[1;32m     47\u001B[0m         progress\u001B[38;5;241m=\u001B[39m\u001B[38;5;28;01mFalse\u001B[39;00m\n\u001B[1;32m     48\u001B[0m     )\n\u001B[1;32m     50\u001B[0m     \u001B[38;5;66;03m# If data was successfully downloaded, add it to our list\u001B[39;00m\n\u001B[1;32m     51\u001B[0m     \u001B[38;5;28;01mif\u001B[39;00m \u001B[38;5;129;01mnot\u001B[39;00m stock_data\u001B[38;5;241m.\u001B[39mempty:\n",
      "File \u001B[0;32m/opt/anaconda3/lib/python3.12/site-packages/yfinance/utils.py:92\u001B[0m, in \u001B[0;36mlog_indent_decorator.<locals>.wrapper\u001B[0;34m(*args, **kwargs)\u001B[0m\n\u001B[1;32m     89\u001B[0m logger\u001B[38;5;241m.\u001B[39mdebug(\u001B[38;5;124mf\u001B[39m\u001B[38;5;124m'\u001B[39m\u001B[38;5;124mEntering \u001B[39m\u001B[38;5;132;01m{\u001B[39;00mfunc\u001B[38;5;241m.\u001B[39m\u001B[38;5;18m__name__\u001B[39m\u001B[38;5;132;01m}\u001B[39;00m\u001B[38;5;124m()\u001B[39m\u001B[38;5;124m'\u001B[39m)\n\u001B[1;32m     91\u001B[0m \u001B[38;5;28;01mwith\u001B[39;00m IndentationContext():\n\u001B[0;32m---> 92\u001B[0m     result \u001B[38;5;241m=\u001B[39m func(\u001B[38;5;241m*\u001B[39margs, \u001B[38;5;241m*\u001B[39m\u001B[38;5;241m*\u001B[39mkwargs)\n\u001B[1;32m     94\u001B[0m logger\u001B[38;5;241m.\u001B[39mdebug(\u001B[38;5;124mf\u001B[39m\u001B[38;5;124m'\u001B[39m\u001B[38;5;124mExiting \u001B[39m\u001B[38;5;132;01m{\u001B[39;00mfunc\u001B[38;5;241m.\u001B[39m\u001B[38;5;18m__name__\u001B[39m\u001B[38;5;132;01m}\u001B[39;00m\u001B[38;5;124m()\u001B[39m\u001B[38;5;124m'\u001B[39m)\n\u001B[1;32m     95\u001B[0m \u001B[38;5;28;01mreturn\u001B[39;00m result\n",
      "File \u001B[0;32m/opt/anaconda3/lib/python3.12/site-packages/yfinance/multi.py:167\u001B[0m, in \u001B[0;36mdownload\u001B[0;34m(tickers, start, end, actions, threads, ignore_tz, group_by, auto_adjust, back_adjust, repair, keepna, progress, period, interval, prepost, proxy, rounding, timeout, session, multi_level_index)\u001B[0m\n\u001B[1;32m    160\u001B[0m         _download_one_threaded(ticker, period\u001B[38;5;241m=\u001B[39mperiod, interval\u001B[38;5;241m=\u001B[39minterval,\n\u001B[1;32m    161\u001B[0m                                start\u001B[38;5;241m=\u001B[39mstart, end\u001B[38;5;241m=\u001B[39mend, prepost\u001B[38;5;241m=\u001B[39mprepost,\n\u001B[1;32m    162\u001B[0m                                actions\u001B[38;5;241m=\u001B[39mactions, auto_adjust\u001B[38;5;241m=\u001B[39mauto_adjust,\n\u001B[1;32m    163\u001B[0m                                back_adjust\u001B[38;5;241m=\u001B[39mback_adjust, repair\u001B[38;5;241m=\u001B[39mrepair, keepna\u001B[38;5;241m=\u001B[39mkeepna,\n\u001B[1;32m    164\u001B[0m                                progress\u001B[38;5;241m=\u001B[39m(progress \u001B[38;5;129;01mand\u001B[39;00m i \u001B[38;5;241m>\u001B[39m \u001B[38;5;241m0\u001B[39m),\n\u001B[1;32m    165\u001B[0m                                rounding\u001B[38;5;241m=\u001B[39mrounding, timeout\u001B[38;5;241m=\u001B[39mtimeout)\n\u001B[1;32m    166\u001B[0m     \u001B[38;5;28;01mwhile\u001B[39;00m \u001B[38;5;28mlen\u001B[39m(shared\u001B[38;5;241m.\u001B[39m_DFS) \u001B[38;5;241m<\u001B[39m \u001B[38;5;28mlen\u001B[39m(tickers):\n\u001B[0;32m--> 167\u001B[0m         _time\u001B[38;5;241m.\u001B[39msleep(\u001B[38;5;241m0.01\u001B[39m)\n\u001B[1;32m    168\u001B[0m \u001B[38;5;66;03m# download synchronously\u001B[39;00m\n\u001B[1;32m    169\u001B[0m \u001B[38;5;28;01melse\u001B[39;00m:\n\u001B[1;32m    170\u001B[0m     \u001B[38;5;28;01mfor\u001B[39;00m i, ticker \u001B[38;5;129;01min\u001B[39;00m \u001B[38;5;28menumerate\u001B[39m(tickers):\n",
      "\u001B[0;31mKeyboardInterrupt\u001B[0m: "
     ]
    }
   ],
   "execution_count": 4
  },
  {
   "metadata": {
    "ExecuteTime": {
     "end_time": "2025-07-17T20:40:02.054819Z",
     "start_time": "2025-07-17T20:40:02.053376Z"
    }
   },
   "cell_type": "code",
   "source": "",
   "id": "f9691933f295f686",
   "outputs": [],
   "execution_count": null
  }
 ],
 "metadata": {
  "kernelspec": {
   "display_name": "Python [conda env:base] *",
   "language": "python",
   "name": "conda-base-py"
  },
  "language_info": {
   "codemirror_mode": {
    "name": "ipython",
    "version": 2
   },
   "file_extension": ".py",
   "mimetype": "text/x-python",
   "name": "python",
   "nbconvert_exporter": "python",
   "pygments_lexer": "ipython2",
   "version": "2.7.6"
  }
 },
 "nbformat": 4,
 "nbformat_minor": 5
}
